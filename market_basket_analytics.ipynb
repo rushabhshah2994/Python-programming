{
 "cells": [
  {
   "cell_type": "markdown",
   "metadata": {},
   "source": [
    "Downloading the training set of 1 million sales transactions"
   ]
  },
  {
   "cell_type": "code",
   "execution_count": 1,
   "metadata": {
    "collapsed": true
   },
   "outputs": [],
   "source": [
    "import urllib.request\n",
    "\n",
    "wp = urllib.request.urlopen(\"http://kevincrook.com/utd/market_basket_training.txt\")\n",
    "f=[]\n",
    "while True:\n",
    "    r=wp.readlines(1)\n",
    "    if not r:\n",
    "        \n",
    "        break\n",
    "    else:\n",
    "        s=str(r[0].decode('utf-8'))\n",
    "        r=s.rstrip()\n",
    "        v=r.split(',')[1:]\n",
    "        f.append(v)\n",
    "tuple_list = [tuple(lst) for lst in f]"
   ]
  },
  {
   "cell_type": "markdown",
   "metadata": {},
   "source": [
    "Creating Dictionary with Combination as keys and Count as Values"
   ]
  },
  {
   "cell_type": "code",
   "execution_count": 2,
   "metadata": {
    "collapsed": true
   },
   "outputs": [],
   "source": [
    "from collections import Counter\n",
    "c = Counter(tuple_list)\n",
    "d=dict(c)\n"
   ]
  },
  {
   "cell_type": "markdown",
   "metadata": {},
   "source": [
    "Creating the Function which return combination with maximum count"
   ]
  },
  {
   "cell_type": "code",
   "execution_count": 3,
   "metadata": {
    "collapsed": true
   },
   "outputs": [],
   "source": [
    "def identity(x):\n",
    "    return x\n",
    "\n",
    "def weight(x):\n",
    "    return x[1]\n",
    "\n",
    "def name_length(x):\n",
    "    return len(x[0])\n",
    "\n",
    "def my_max(sequence, key_func=None):\n",
    "    \n",
    "    if not sequence:\n",
    "        raise ValueError('empty sequence')\n",
    "\n",
    "    if not key_func:\n",
    "        key_func = identity\n",
    "\n",
    "    maximum = sequence[0]\n",
    "\n",
    "    for item in sequence:\n",
    "        \n",
    "        if key_func(item) > key_func(maximum):\n",
    "            maximum = item\n",
    "\n",
    "    return maximum"
   ]
  },
  {
   "cell_type": "markdown",
   "metadata": {},
   "source": [
    "Downloading the test set of 100 online shopping carts"
   ]
  },
  {
   "cell_type": "code",
   "execution_count": 4,
   "metadata": {
    "collapsed": true
   },
   "outputs": [],
   "source": [
    "import urllib.request\n",
    "\n",
    "wp = urllib.request.urlopen(\"http://kevincrook.com/utd/market_basket_test.txt\")\n",
    "ft=[]\n",
    "while True:\n",
    "    r=wp.readlines(1)\n",
    "    if not r:\n",
    "        \n",
    "        break\n",
    "    else:\n",
    "        s=str(r[0].decode('utf-8'))\n",
    "        r=s.rstrip()\n",
    "        v=r.split(',')[1:]\n",
    "        ft.append(v)\n"
   ]
  },
  {
   "cell_type": "markdown",
   "metadata": {},
   "source": [
    "Removing 'P04' and 'P08' from training data set"
   ]
  },
  {
   "cell_type": "code",
   "execution_count": 5,
   "metadata": {
    "collapsed": true
   },
   "outputs": [],
   "source": [
    "yy=[]\n",
    "for c in ft:\n",
    "    if 'P04' in c:\n",
    "        c.remove('P04')\n",
    "    if 'P08' in c:\n",
    "        c.remove('P08')\n",
    "    yy.append(c)\n"
   ]
  },
  {
   "cell_type": "markdown",
   "metadata": {},
   "source": [
    "Creating the recommandation for testing data set"
   ]
  },
  {
   "cell_type": "code",
   "execution_count": 6,
   "metadata": {
    "collapsed": true
   },
   "outputs": [],
   "source": [
    "l=[]\n",
    "ff=[]\n",
    "\n",
    "for c in yy:\n",
    "   \n",
    "   # print(c)\n",
    "    t=len(c)\n",
    "    m= t + 1\n",
    "    for key,value in d.items():\n",
    "        k=len(key)\n",
    "        \n",
    "        if k == m:\n",
    "            if (set(c).issubset(set(key))):\n",
    "                \n",
    "                temp=[key,value]\n",
    "                l.append(temp)\n",
    "            else:\n",
    "                continue\n",
    "        else:\n",
    "            continue\n",
    "    l\n",
    "    z=my_max(l, key_func=lambda x: x[1])\n",
    "    l=[]\n",
    "    f=set(z[0])^set(c)\n",
    "    ff.append(f)\n",
    "    f=0\n",
    "\n"
   ]
  },
  {
   "cell_type": "markdown",
   "metadata": {},
   "source": [
    "Creating the recommendations file"
   ]
  },
  {
   "cell_type": "code",
   "execution_count": 7,
   "metadata": {
    "collapsed": true
   },
   "outputs": [],
   "source": [
    "oo=1\n",
    "with open('market_basket_recommendations.txt','wt',encoding='utf8') as f:\n",
    "    for i in ff:\n",
    "        y=str(i)[1:-1].replace(\"'\",\"\").replace(\"'\", \"\")\n",
    "        f.write(\"{0:03}\".format(oo)  + ',' + y + '\\n')\n",
    "        oo+=1"
   ]
  },
  {
   "cell_type": "code",
   "execution_count": 8,
   "metadata": {
    "collapsed": true
   },
   "outputs": [],
   "source": [
    "with open('market_basket_recommendations.txt', 'r') as f:\n",
    "    data = f.read()\n",
    "    with open('market_basket_recommendations.txt', 'w') as w:\n",
    "        w.write(data[:-1])"
   ]
  },
  {
   "cell_type": "code",
   "execution_count": null,
   "metadata": {
    "collapsed": true
   },
   "outputs": [],
   "source": []
  }
 ],
 "metadata": {
  "kernelspec": {
   "display_name": "Python 3",
   "language": "python",
   "name": "python3"
  },
  "language_info": {
   "codemirror_mode": {
    "name": "ipython",
    "version": 3
   },
   "file_extension": ".py",
   "mimetype": "text/x-python",
   "name": "python",
   "nbconvert_exporter": "python",
   "pygments_lexer": "ipython3",
   "version": "3.6.1"
  }
 },
 "nbformat": 4,
 "nbformat_minor": 2
}
